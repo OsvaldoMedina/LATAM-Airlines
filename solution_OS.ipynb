{
 "cells": [
  {
   "cell_type": "markdown",
   "metadata": {},
   "source": [
    "## Data Scientist Challenge - LATAM Airlines\n",
    "### Instrucciones\n",
    "En Advanced Analytics valoramos muchísimo el trabajo en equipo y la constante interacción entre los distintos roles que trabajan en\n",
    "un producto basado en datos, como el Data Scientist, Machine Learning Engineering, Data Engineer, entre otros. Es por este motivo\n",
    "que una habilidad esencial que buscamos a la hora de buscar nuevos integrantes es el manejo adecuado de git. **Este desafío\n",
    "deberá ser entregado en la plataforma de git que más te acomode y que sea pública para que la podamos revisar**. Lo que\n",
    "buscamos con esto es poder entender de mejor manera el desarrollo que generaste con tu código, cómo lo fuiste mejorando en el\n",
    "tiempo y si tienes proyectos propios en este repositorio nos servirán para conocer mejor tu experiencia en base a tu propio.\n",
    "\n",
    "### Problema\n",
    "\n",
    "El problema consiste en predecir la probabilidad de atraso de los vuelos que aterrizan o despegan del aeropuerto de Santiago de\n",
    "Chile (SCL). Para eso les entregamos un dataset usando datos públicos y reales donde cada fila corresponde a un vuelo que\n",
    "aterrizó o despegó de SCL."
   ]
  },
  {
   "attachments": {},
   "cell_type": "markdown",
   "metadata": {},
   "source": [
    "### Importando librerías\n",
    "\n",
    "* **pycaret**\n",
    "* **pandas**\n",
    "* **os**\n",
    "* **matplotlib**\n",
    "* **numpy**\n",
    "* **seaborn**"
   ]
  },
  {
   "cell_type": "code",
   "execution_count": null,
   "metadata": {},
   "outputs": [],
   "source": [
    "import pandas as pd\n",
    "import os\n",
    "import numpy as np\n",
    "import matplotlib.pyplot as plt\n",
    "import seaborn as sns\n",
    "import pycaret\n",
    "os.getcwd()\n",
    "import sys\n",
    "import warnings"
   ]
  },
  {
   "cell_type": "markdown",
   "metadata": {},
   "source": [
    "La siguiente celda se agrega  solo para eliminar las adevertencias (Warnings) del código"
   ]
  },
  {
   "cell_type": "code",
   "execution_count": null,
   "metadata": {},
   "outputs": [],
   "source": [
    "if not sys.warnoptions:\n",
    "    warnings.simplefilter(\"ignore\")"
   ]
  },
  {
   "cell_type": "markdown",
   "metadata": {},
   "source": [
    "### Lectura de datos\n",
    "\n",
    "\n",
    "* **Low_memory**:  Procesa internamente el archivo en fragmentos, lo que da como resultado un menor uso de la memoria durante el análisis.\n",
    "\n",
    "* **Header** :  Los Número(s) de fila se  utilizan  como nombres de columna, y el inicio de los datos, la header=0 y los nombres de columna se infieren de la primera línea del archivo.\n",
    "\n",
    "* **Parse_dates**: Función que se usará para convertir una secuencia de columnas de cadena en una matriz de instancias de fecha y hora."
   ]
  },
  {
   "cell_type": "code",
   "execution_count": null,
   "metadata": {},
   "outputs": [],
   "source": [
    "df = pd.read_csv('data/dataset_SCL.csv', low_memory=False, header=0, parse_dates=True, dtype={'Vlo-O':str, 'Vlo-I':str})"
   ]
  },
  {
   "cell_type": "markdown",
   "metadata": {},
   "source": [
    "### Descripción de Variables\n",
    "\n",
    "\n",
    "* **Fecha-I** : Fecha y hora programada del vuelo.\n",
    "* **Vlo-I** : Número de vuelo programado.\n",
    "* **Ori-I** : Código de ciudad de origen programado.\n",
    "* **Des-I** : Código de ciudad de destino programado.\n",
    "* **Emp-I** : Código aerolínea de vuelo programado.\n",
    "* **Fecha-O** : Fecha y hora de operación del vuelo.\n",
    "* **Vlo-O** : Número de vuelo de operación del vuelo.\n",
    "* **Ori-O** : Código de ciudad de origen de operación\n",
    "* **Des-O** : Código de ciudad de destino de operación.\n",
    "* **Emp-O** : Código aerolínea de vuelo operado.\n",
    "* **DIA** : Día del mes de operación del vuelo.\n",
    "* **MES** : Número de mes de operación del vuelo.\n",
    "* **AÑO** : Año de operación del vuelo.\n",
    "* **DIANOM** : Día de la semana de operación del vuelo.\n",
    "* **TIPOVUELO** : Tipo de vuelo, I =Internacional, N =Nacional.\n",
    "* **OPERA** : Nombre de aerolínea que opera.\n",
    "* **SIGLAORI** : Nombre ciudad origen.\n",
    "* **SIGLADES** : Nombre ciudad destino."
   ]
  },
  {
   "cell_type": "markdown",
   "metadata": {},
   "source": [
    "##### Análisis Exploratorio y distribución de los datos\n",
    "\n",
    "En primera instancia, una vez que se lee el archivo .csv, se guarda en un dataframe llamado df y se verifica el despliegue de todas las variables"
   ]
  },
  {
   "cell_type": "code",
   "execution_count": null,
   "metadata": {},
   "outputs": [],
   "source": [
    "df"
   ]
  },
  {
   "cell_type": "markdown",
   "metadata": {},
   "source": [
    "A continuación se verifica los los tipos de variables con los que contamos en la información proporcionada"
   ]
  },
  {
   "cell_type": "code",
   "execution_count": null,
   "metadata": {},
   "outputs": [],
   "source": [
    "df.info()"
   ]
  },
  {
   "cell_type": "markdown",
   "metadata": {},
   "source": [
    "Verificamos con cuantos renglones y columnas tiene nuestro dataframe"
   ]
  },
  {
   "cell_type": "code",
   "execution_count": null,
   "metadata": {},
   "outputs": [],
   "source": [
    "df.shape"
   ]
  },
  {
   "cell_type": "markdown",
   "metadata": {},
   "source": [
    "Así mismmo el nombre de las columnas que para nuestro análisis serán las variables"
   ]
  },
  {
   "cell_type": "code",
   "execution_count": null,
   "metadata": {},
   "outputs": [],
   "source": [
    "df.columns"
   ]
  },
  {
   "attachments": {},
   "cell_type": "markdown",
   "metadata": {},
   "source": [
    "Se conviente los nombres de las columnas a minusculas para una mejor manipulación"
   ]
  },
  {
   "cell_type": "code",
   "execution_count": null,
   "metadata": {},
   "outputs": [],
   "source": [
    "col_names = {col: col.lower().replace('-','_') for col in df .columns.values}\n",
    "df.rename(columns=col_names, inplace=True)\n",
    "df.head()"
   ]
  },
  {
   "cell_type": "markdown",
   "metadata": {},
   "source": [
    "Se verifica los valores nulos y como resultado se ve que solo hay un valor nulo"
   ]
  },
  {
   "cell_type": "code",
   "execution_count": null,
   "metadata": {},
   "outputs": [],
   "source": [
    "df.isna().any()\n"
   ]
  },
  {
   "cell_type": "markdown",
   "metadata": {},
   "source": [
    "Se porcede a borrarlo"
   ]
  },
  {
   "cell_type": "code",
   "execution_count": null,
   "metadata": {},
   "outputs": [],
   "source": [
    "df.dropna()"
   ]
  },
  {
   "cell_type": "markdown",
   "metadata": {},
   "source": [
    "De esta manera, tenemos una data en principio limpia y lista para comenzar con el análisis exploratorio y ver como estan distribuidos nuestros datos en el dataframe"
   ]
  },
  {
   "attachments": {},
   "cell_type": "markdown",
   "metadata": {},
   "source": [
    "### Desafío\n",
    "\n",
    "##### 1. ¿Cómo se distribuyen los datos? , ¿Qué te llama la atención o cuál es tu conclusión sobre esto?\n",
    "\n",
    "A continuación se realiza una análisis de distribución de los datos para la comprensión de los mismos, se utiliza la librería **seaborn**, para realizar la viuslaización, así mismo se enfatiza que no es la única librería pera realizarlo. Se tomarán algunas variables de importancia para comprender un poco más los datos\n",
    "\n",
    "* **AÑO** : Año de operación del vuelo.\n",
    "* **MES** : Número de mes de operación del vuelo.\n",
    "* **OPERA** : Nombre de aerolínea que opera.\n",
    "* **SIGLADES** : Nombre ciudad destino.\n",
    "* **TIPOVUELO** : Tipo de vuelo, I =Internacional, N =Nacional.\n",
    "* **DIANOM** : Día de la semana de operación del vuelo.\n",
    "* **Ori-I** : Código de ciudad de origen programado.\n",
    "* **Des-I** : Código de ciudad de destino programado.\n",
    "\n",
    "**Nota**: Las variables pueden tomarse en el orden que se requiera para su análsis"
   ]
  },
  {
   "cell_type": "code",
   "execution_count": null,
   "metadata": {},
   "outputs": [],
   "source": [
    "plt.figure(figsize=(20,10))\n",
    "sns.set(font_scale = 2)\n",
    "df\n",
    "gen_cnt = df['año'].value_counts().sort_values(ascending=False)\n",
    "order=gen_cnt.index\n",
    "ax = sns.countplot(x='año', data=df)\n",
    "plt.xticks(rotation = 360)\n",
    "plt.yticks()\n",
    "plt.ylabel('Frequency')\n",
    "plt.title('Año de operación del vuelo')\n",
    "\n",
    "# annotate\n",
    "ax.bar_label(ax.containers[0], label_type=\"edge\")\n",
    "\n",
    "# pad the spacing between the number and the edge of the figure\n",
    "ax.margins(y=0.1)\n",
    "\n",
    "plt.show()"
   ]
  },
  {
   "cell_type": "code",
   "execution_count": null,
   "metadata": {},
   "outputs": [],
   "source": [
    "df.año.value_counts()"
   ]
  },
  {
   "cell_type": "markdown",
   "metadata": {},
   "source": [
    "En la figura y en el conteo anterior se observa que la cantidad de vuelos en el 2017 fueron mucho mayor que en el 2018, esto representa como un posible dato atípico, comparandolo con las cantidades que existen en ambos años"
   ]
  },
  {
   "cell_type": "code",
   "execution_count": null,
   "metadata": {},
   "outputs": [],
   "source": [
    "df"
   ]
  },
  {
   "cell_type": "code",
   "execution_count": null,
   "metadata": {},
   "outputs": [],
   "source": [
    "\n",
    "plt.figure(figsize=(20,10))\n",
    "sns.set(font_scale = 1)\n",
    "df\n",
    "gen_cnt = df['mes'].value_counts().sort_values(ascending=False)\n",
    "order=gen_cnt.index\n",
    "ax = sns.countplot(x='mes', data=df)\n",
    "plt.xticks(rotation = 360)\n",
    "plt.yticks()\n",
    "plt.ylabel('Frequency')\n",
    "plt.title('Número de mes de operación del vuelo')\n",
    "\n",
    "# annotate\n",
    "ax.bar_label(ax.containers[0], label_type=\"edge\")\n",
    "\n",
    "# pad the spacing between the number and the edge of the figure\n",
    "ax.margins(y=0.1)\n",
    "\n",
    "plt.show()"
   ]
  },
  {
   "cell_type": "code",
   "execution_count": null,
   "metadata": {},
   "outputs": [],
   "source": [
    "df.mes.value_counts()"
   ]
  },
  {
   "cell_type": "code",
   "execution_count": null,
   "metadata": {},
   "outputs": [],
   "source": [
    "\n",
    "plt.figure(figsize=(20,10))\n",
    "sns.set(font_scale = 1)\n",
    "df\n",
    "gen_cnt = df['opera'].value_counts().sort_values(ascending=False)\n",
    "order=gen_cnt.index\n",
    "ax = sns.countplot(x='opera', data=df)\n",
    "plt.xticks(rotation = 75)\n",
    "plt.yticks()\n",
    "plt.ylabel('Frequency')\n",
    "plt.title('Agrupacion por mes')\n",
    "\n",
    "# annotate\n",
    "ax.bar_label(ax.containers[0], label_type=\"edge\")\n",
    "\n",
    "# pad the spacing between the number and the edge of the figure\n",
    "ax.margins(y=0.1)\n",
    "\n",
    "plt.show()\n",
    "\n"
   ]
  },
  {
   "cell_type": "code",
   "execution_count": null,
   "metadata": {},
   "outputs": [],
   "source": [
    "df['opera'].value_counts()"
   ]
  },
  {
   "cell_type": "code",
   "execution_count": null,
   "metadata": {},
   "outputs": [],
   "source": [
    "\n",
    "plt.figure(figsize=(20,10))\n",
    "sns.set(font_scale = 1)\n",
    "df\n",
    "gen_cnt = df['siglades'].value_counts().sort_values(ascending=False)\n",
    "order=gen_cnt.index\n",
    "ax = sns.countplot(x='siglades', data=df)\n",
    "plt.xticks(rotation = 75)\n",
    "plt.yticks()\n",
    "plt.ylabel('Frequency')\n",
    "plt.title('Nombre ciudad destino')\n",
    "\n",
    "# annotate\n",
    "ax.bar_label(ax.containers[0], label_type=\"edge\")\n",
    "\n",
    "# pad the spacing between the number and the edge of the figure\n",
    "ax.margins(y=0.1)"
   ]
  },
  {
   "cell_type": "code",
   "execution_count": null,
   "metadata": {},
   "outputs": [],
   "source": [
    "df['siglades'].value_counts()"
   ]
  },
  {
   "cell_type": "code",
   "execution_count": null,
   "metadata": {},
   "outputs": [],
   "source": [
    "df['ori_i'].value_counts()"
   ]
  },
  {
   "cell_type": "code",
   "execution_count": null,
   "metadata": {},
   "outputs": [],
   "source": [
    "plt.figure(figsize=(20,10))\n",
    "sns.set(font_scale = 1)\n",
    "df\n",
    "gen_cnt = df['des_i'].value_counts().sort_values(ascending=False)\n",
    "order=gen_cnt.index\n",
    "ax = sns.countplot(x='des_i', data=df)\n",
    "plt.xticks(rotation = 75)\n",
    "plt.yticks()\n",
    "plt.ylabel('Frequency')\n",
    "plt.title('Código de ciudad de destino programado')\n",
    "\n",
    "# annotate\n",
    "ax.bar_label(ax.containers[0], label_type=\"edge\")\n",
    "\n",
    "# pad the spacing between the number and the edge of the figure\n",
    "ax.margins(y=0.1)\n",
    "\n",
    "plt.show()\n",
    "\n",
    "\n"
   ]
  },
  {
   "cell_type": "code",
   "execution_count": null,
   "metadata": {},
   "outputs": [],
   "source": [
    "df['des_i'].value_counts()"
   ]
  },
  {
   "cell_type": "code",
   "execution_count": null,
   "metadata": {},
   "outputs": [],
   "source": [
    "plt.figure(figsize=(20,10))\n",
    "sns.set(font_scale = 1)\n",
    "df\n",
    "gen_cnt = df['siglades'].value_counts().sort_values(ascending=False)\n",
    "order=gen_cnt.index\n",
    "ax = sns.countplot(x='siglades', data=df)\n",
    "plt.xticks(rotation = 75)\n",
    "plt.yticks()\n",
    "plt.ylabel('Frequency')\n",
    "plt.title('Nombre de ciudad destino')\n",
    "\n",
    "# annotate\n",
    "ax.bar_label(ax.containers[0], label_type=\"edge\")\n",
    "\n",
    "# pad the spacing between the number and the edge of the figure\n",
    "ax.margins(y=0.1)\n",
    "\n",
    "plt.show()"
   ]
  },
  {
   "cell_type": "code",
   "execution_count": null,
   "metadata": {},
   "outputs": [],
   "source": [
    "df['siglades'].value_counts()"
   ]
  },
  {
   "attachments": {},
   "cell_type": "markdown",
   "metadata": {},
   "source": [
    " Con las siguinetes varaibles se puede determina si existen codidos de ciudades de destionos repeditas\n",
    "\n",
    "\n",
    "* **Des-I** : Código de ciudad de destino programado.\n",
    "* **SIGLADES** : Nombre ciudad destino.\n",
    "\n",
    "En lo cal realizando el análisis se confirma que si existen codigos de ciudades repetidas"
   ]
  },
  {
   "cell_type": "code",
   "execution_count": null,
   "metadata": {},
   "outputs": [],
   "source": [
    "sing_dest = df.groupby(by=['siglades','des_i'])['des_i'].agg(['count']).reset_index()\n",
    "sing_dest"
   ]
  },
  {
   "attachments": {},
   "cell_type": "markdown",
   "metadata": {},
   "source": [
    "Dada la situación anterior se observan los siguientes datos en cantidades unicas, como ejemmplo se toman las siguientes columnas pero se podría realizar para las de mayor interes\n",
    "\n",
    "* **Vlo-I** : Número de vuelo programado.\n",
    "* **Des-I** : Código de ciudad de destino programado\n",
    "* **Vlo-O** : Número de vuelo de operación del vuelo.\n",
    "* **Des-O** : Código de ciudad de destino de operación.\n"
   ]
  },
  {
   "cell_type": "code",
   "execution_count": null,
   "metadata": {},
   "outputs": [],
   "source": [
    "print('Numero de vuelos programados unicos:  ',len(df['des_i'].unique()))\n",
    "print('Numero de vuelos operados unicos:  ',len(df['des_o'].unique()))\n",
    "print('Numero de vuelos programados unicos:  ',len(df['vlo_i'].unique()))\n",
    "print('Numero de vuelos operados unicos:  ',len(df['vlo_o'].unique()))"
   ]
  },
  {
   "cell_type": "code",
   "execution_count": null,
   "metadata": {},
   "outputs": [],
   "source": [
    "\n",
    "plt.figure(figsize=(20,10))\n",
    "sns.set(font_scale = 1)\n",
    "df\n",
    "gen_cnt = df['tipovuelo'].value_counts().sort_values(ascending=False)\n",
    "order=gen_cnt.index\n",
    "ax = sns.countplot(x='tipovuelo', data=df)\n",
    "plt.xticks(rotation = 75)\n",
    "plt.yticks()\n",
    "plt.ylabel('Frequency')\n",
    "plt.title('Tipo de vuelo, I =Internacional, N =Nacional')\n",
    "\n",
    "# annotate\n",
    "ax.bar_label(ax.containers[0], label_type=\"edge\")\n",
    "\n",
    "# pad the spacing between the number and the edge of the figure\n",
    "ax.margins(y=0.1)"
   ]
  },
  {
   "cell_type": "code",
   "execution_count": null,
   "metadata": {},
   "outputs": [],
   "source": [
    "df['tipovuelo'].value_counts()"
   ]
  },
  {
   "cell_type": "code",
   "execution_count": null,
   "metadata": {},
   "outputs": [],
   "source": [
    "\n",
    "plt.figure(figsize=(20,10))\n",
    "sns.set(font_scale = 1)\n",
    "df\n",
    "gen_cnt = df['dianom'].value_counts().sort_values(ascending=False)\n",
    "order=gen_cnt.index\n",
    "ax = sns.countplot(x='dianom', data=df)\n",
    "plt.xticks(rotation = 75)\n",
    "plt.yticks()\n",
    "plt.ylabel('Frequency')\n",
    "plt.title('Día de la semana de operación del vuelo')\n",
    "\n",
    "# annotate\n",
    "ax.bar_label(ax.containers[0], label_type=\"edge\")\n",
    "\n",
    "# pad the spacing between the number and the edge of the figure\n",
    "ax.margins(y=0.1)\n"
   ]
  },
  {
   "cell_type": "code",
   "execution_count": null,
   "metadata": {},
   "outputs": [],
   "source": [
    "df['dianom'].value_counts()"
   ]
  },
  {
   "attachments": {},
   "cell_type": "markdown",
   "metadata": {},
   "source": [
    "#### 2. Genera las columnas adicionales y luego expórtelas en un archivo synthetic_features.csv :\n",
    "* **temporada_alta** : 1 si Fecha-I está entre 15-Dic y 3-Mar, o 15-Jul y 31-Jul, o 11-Sep y 30-Sep, 0 si no.\n",
    "* **dif_min** : diferencia en minutos entre Fecha-O y Fecha-I .\n",
    "* **atraso_15** : 1 si dif_min > 15, 0 si no.\n",
    "* **periodo_dia** : mañana (entre 5:00 y 11:59), tarde (entre 12:00 y 18:59) y noche (entre 19:00 y 4:59), en base a\n",
    "Fecha-I\n",
    "\n",
    "Para relaizar el paso de la variable **temporada_alta**, en el intervalo entre 15-Dic y 3-Mar se debe tener cuidado ya, se podría interpretar de la siguiente manera:\n",
    "* 15 de Diciembre del 2017 al 3 Marzo del 2018, si se observa con anterioridad 2018 solo tiene 2 vuelos, por lo que se descarta\n",
    "* Si se toma del 3 de Marzo del 2017 al 31 de Diciembre del 2017, se estaría incluyendo los intervalos de Julio y Septiembre y eso sumaría más datos al resultado (Este código comentado  representa lo que se describe  en este punto )\n",
    "* Dado a que es solo 2017, se establece los intervalos del 15 de Diciembre al 31 del 2017 y después del 1 de Enero al 3 de Marzo del 2017.\n",
    "\n",
    "**Nota**:  Aun así, se debe platicar con el cliente para aclarar dudas"
   ]
  },
  {
   "cell_type": "code",
   "execution_count": null,
   "metadata": {},
   "outputs": [],
   "source": [
    "df['temporada_alta'] = np.where((df['fecha_i'] >= '2017-12-15') & (df['fecha_i'] <= '2017-12-31') |\n",
    "                                (df['fecha_i'] >= '2017-01-01') & (df['fecha_i'] <= '2017-03-03') |\n",
    "                                (df['fecha_i'] >= '2017-07-15') & (df['fecha_i'] <= '2017-07-31') |\n",
    "                                (df['fecha_i'] >= '2017-09-11') & (df['fecha_i'] <= '2017-09-30') , 1, 0)\n",
    "pc_1 = pd.DataFrame(df.temporada_alta.value_counts(normalize=True))\n",
    "print(pc_1)\n",
    "df.head()"
   ]
  },
  {
   "cell_type": "code",
   "execution_count": null,
   "metadata": {},
   "outputs": [],
   "source": [
    "df['temporada_alta'].value_counts()"
   ]
  },
  {
   "cell_type": "code",
   "execution_count": null,
   "metadata": {},
   "outputs": [],
   "source": [
    "#df['temporada_alta'] = np.where((df['Fecha-I'] >= '2017-03-03') & (df['Fecha-I'] <= '2017-12-31') |\n",
    "#                                (df['Fecha-I'] >= '2017-07-15') & (df['Fecha-I'] <= '2017-07-31') |\n",
    "#                                (df['Fecha-I'] >= '2017-09-11') & (df['Fecha-I'] <= '2017-09-30') , 1, 0)"
   ]
  },
  {
   "cell_type": "code",
   "execution_count": null,
   "metadata": {},
   "outputs": [],
   "source": [
    "#df['temporada_alta'].value_counts()"
   ]
  },
  {
   "cell_type": "markdown",
   "metadata": {},
   "source": [
    "Para determinar la diferencia en minutos entre estas dos variables es necesario cambiarlas a variable **datatime**, antes de tratar de hacer la conversión, esto es debido a como se visualizo anteriormente en la información de las variables **Fecha-I** y **Fecha-O**, están como objeto\n",
    "\n",
    "\n",
    "\n",
    "* **Fecha-I** : Fecha y hora programada del vuelo.\n",
    "* **Fecha-O** : Fecha y hora de operación del vuelo."
   ]
  },
  {
   "cell_type": "code",
   "execution_count": null,
   "metadata": {},
   "outputs": [],
   "source": [
    "df['fecha_i'] = df['fecha_i'].astype('datetime64[ns]')\n",
    "df['fecha_o'] = df['fecha_o'].astype('datetime64[ns]')\n",
    "df['dif_min'] = (df['fecha_o'] - df['fecha_i'])/ pd.Timedelta(minutes=1)\n",
    "df.head()"
   ]
  },
  {
   "cell_type": "code",
   "execution_count": null,
   "metadata": {},
   "outputs": [],
   "source": [
    "df['atraso_15'] = np.where(df['dif_min'] > 15, 1, 0)\n",
    "df.head()"
   ]
  },
  {
   "cell_type": "code",
   "execution_count": null,
   "metadata": {},
   "outputs": [],
   "source": [
    "plt.figure(figsize=(20,10))\n",
    "sns.set(font_scale = 1)\n",
    "df\n",
    "gen_cnt = df['dif_min'].value_counts().sort_values(ascending=False)\n",
    "order=gen_cnt.index\n",
    "ax = sns.countplot(x='dif_min', data=df)\n",
    "plt.xticks(rotation = 75)\n",
    "plt.yticks()\n",
    "plt.ylabel('Frequency')\n",
    "plt.title('Diferencia en minutos entre Fecha-O y Fecha-I')\n",
    "\n",
    "# annotate\n",
    "#ax.bar_label(ax.containers[0], label_type=\"edge\")\n",
    "\n",
    "# pad the spacing between the number and the edge of the figure\n",
    "ax.margins(y=0.1)"
   ]
  },
  {
   "cell_type": "code",
   "execution_count": null,
   "metadata": {},
   "outputs": [],
   "source": [
    "df['dif_min'].value_counts()"
   ]
  },
  {
   "cell_type": "code",
   "execution_count": null,
   "metadata": {},
   "outputs": [],
   "source": [
    "plt.figure(figsize=(20,10))\n",
    "sns.set(font_scale = 1)\n",
    "df\n",
    "gen_cnt = df['atraso_15'].value_counts().sort_values(ascending=False)\n",
    "order=gen_cnt.index\n",
    "ax = sns.countplot(x='atraso_15', data=df)\n",
    "plt.xticks(rotation = 75)\n",
    "plt.yticks()\n",
    "plt.ylabel('Frequency')\n",
    "plt.title('Diferencia en minutos entre Fecha-O y Fecha-I')\n",
    "\n",
    "# annotate\n",
    "ax.bar_label(ax.containers[0], label_type=\"edge\")\n",
    "\n",
    "# pad the spacing between the number and the edge of the figure\n",
    "ax.margins(y=0.1)"
   ]
  },
  {
   "cell_type": "code",
   "execution_count": null,
   "metadata": {},
   "outputs": [],
   "source": [
    "df['atraso_15'].value_counts()"
   ]
  },
  {
   "cell_type": "code",
   "execution_count": null,
   "metadata": {},
   "outputs": [],
   "source": [
    "#df = df.drop(['atraso_15'], axis=1)\n",
    "df['atraso_15'] = df[\"dif_min\"].apply(lambda x: 1 if int(x)> 15 else 0)\n",
    "pc_atraso_15 = pd.DataFrame(df.atraso_15.value_counts(normalize=True))\n",
    "print(pc_atraso_15)\n",
    "\n",
    "# El 18.49% de los registro son atrasos cuando dif_min > 15"
   ]
  },
  {
   "cell_type": "markdown",
   "metadata": {},
   "source": [
    "Para establecer los periodos de día con las variantes **mañana**, **tarde** y **noche**, se establecen tres variables temporales, las cuales, se concatenan en una columna llamada **periodo_dia**"
   ]
  },
  {
   "cell_type": "code",
   "execution_count": null,
   "metadata": {},
   "outputs": [],
   "source": [
    "T1 = df.set_index('fecha_i').between_time('05:00:00','11:59:00')\n",
    "T1['periodo_dia'] = \"mañana\"\n",
    "\n",
    "\n",
    "T2 = df.set_index('fecha_i').between_time('12:00:00','18:59:00')\n",
    "T2['periodo_dia'] = \"tarde\"\n",
    "\n",
    "T3 = df.set_index('fecha_i').between_time('19:00:00','04:59:00')\n",
    "T3['periodo_dia'] = \"noche\""
   ]
  },
  {
   "cell_type": "code",
   "execution_count": null,
   "metadata": {},
   "outputs": [],
   "source": [
    "df = pd.concat([T1,T2,T3], 0)\n"
   ]
  },
  {
   "cell_type": "markdown",
   "metadata": {},
   "source": [
    "Se verifica que se encuentren añadidas las variables **temporada_alta** , **dif_min**, **atraso_15** y **periodo_dia** esten  con sus correctos resultados\n",
    "\n",
    "**Nota**:  La verificación se puede hacer  teminando en cada celda, aunque el script final no lo llevará"
   ]
  },
  {
   "cell_type": "code",
   "execution_count": null,
   "metadata": {},
   "outputs": [],
   "source": [
    "df"
   ]
  },
  {
   "cell_type": "code",
   "execution_count": null,
   "metadata": {},
   "outputs": [],
   "source": [
    "df['periodo_dia'].value_counts()"
   ]
  },
  {
   "cell_type": "code",
   "execution_count": null,
   "metadata": {},
   "outputs": [],
   "source": [
    "plt.figure(figsize=(20,10))\n",
    "sns.set(font_scale = 1)\n",
    "df\n",
    "gen_cnt = df['periodo_dia'].value_counts().sort_values(ascending=False)\n",
    "order=gen_cnt.index\n",
    "ax = sns.countplot(x='periodo_dia', data=df)\n",
    "plt.xticks(rotation = 75)\n",
    "plt.yticks()\n",
    "plt.ylabel('Frequency')\n",
    "plt.title('Diferencia en minutos entre Fecha-O y Fecha-I')\n",
    "\n",
    "# annotate\n",
    "ax.bar_label(ax.containers[0], label_type=\"edge\")\n",
    "\n",
    "# pad the spacing between the number and the edge of the figure\n",
    "ax.margins(y=0.1)"
   ]
  },
  {
   "cell_type": "code",
   "execution_count": null,
   "metadata": {},
   "outputs": [],
   "source": [
    "dt_synthetic_features = df[['temporada_alta','dif_min','atraso_15','periodo_dia']]\n",
    "dt_synthetic_features.to_csv(\"synthetic_features.csv\", sep=',', encoding='utf-8')\n",
    "dt_synthetic_features.head(5)"
   ]
  },
  {
   "cell_type": "markdown",
   "metadata": {},
   "source": [
    "##### 3. ¿Cómo se compone la tasa de atraso por destino, aerolínea, mes del año, día de la semana, temporada, tipo de vuelo? ¿Qué variables esperarías que más influyeran en predecir atrasos?\n",
    "\n",
    "\n",
    "* **Des-I** : Código de ciudad de destino programado.\n",
    "* **OPERA** : Nombre de aerolínea que opera.\n",
    "* **MES** : Número de mes de operación del vuelo.\n",
    "* **AÑO** : Año de operación del vuelo.\n",
    "* **DIANOM** : Día de la semana de operación del vuelo.\n",
    "* **temporada**: Se toma la variable ya creada compo **temporada_alta**\n",
    "* **TIPOVUELO** : Tipo de vuelo, I =Internacional, N =Nacional.\n",
    "\n",
    "Para la variable t**emporada**, se tomará la columna ya creada (**temporada_alta**), tomando en cuenta que esta varible puede ser actualizada con otras fechas, mismas que serán valoradas para determinar si la temporada es alta o baja. \n",
    "\n",
    "Así mismo se genera una nueva variable llamda **atraso_gral** donde se concideran desde los 2 min ya un atraso en el vuelo, esta variable es a concidear ya que se puede utilizar la variable de los retrasos de **atraso_15**, de esta manera se procede a analizar como esta la tasa de atrasos por las variables ya indicadas"
   ]
  },
  {
   "cell_type": "code",
   "execution_count": null,
   "metadata": {},
   "outputs": [],
   "source": [
    "#df['atraso_gral'] = np.where(df['dif_min'] > 2, 1, 0)"
   ]
  },
  {
   "cell_type": "code",
   "execution_count": null,
   "metadata": {},
   "outputs": [],
   "source": [
    "pd.DataFrame(df.groupby(by=['des_i'])['atraso_15'].mean())\n"
   ]
  },
  {
   "cell_type": "code",
   "execution_count": null,
   "metadata": {},
   "outputs": [],
   "source": [
    "pd.DataFrame(df.groupby(by=['des_i'])['atraso_15'].mean().describe())"
   ]
  },
  {
   "cell_type": "code",
   "execution_count": null,
   "metadata": {},
   "outputs": [],
   "source": [
    "plt.figure(figsize=(20,10))\n",
    "sns.set(font_scale = 0.8)\n",
    "df\n",
    "gen_cnt = df['des_i'].value_counts().sort_values(ascending=False)\n",
    "order=gen_cnt.index\n",
    "ax = sns.barplot(x = 'des_i', y = 'atraso_15', data = df)\n",
    "plt.xticks(rotation = 75)\n",
    "plt.yticks()\n",
    "plt.ylabel('Atrasos 15')\n",
    "plt.title('Tasa de atrasos por destino')\n",
    "\n",
    "# annotate\n",
    "ax.bar_label(ax.containers[0], label_type=\"edge\")\n",
    "\n",
    "# pad the spacing between the number and the edge of the figure\n",
    "ax.margins(y=0.1)"
   ]
  },
  {
   "cell_type": "code",
   "execution_count": null,
   "metadata": {},
   "outputs": [],
   "source": [
    "pd.DataFrame(df.groupby(by=['opera'])['atraso_15'].mean())"
   ]
  },
  {
   "cell_type": "code",
   "execution_count": null,
   "metadata": {},
   "outputs": [],
   "source": [
    "pd.DataFrame(df.groupby(by=['opera'])['atraso_15'].mean().describe())"
   ]
  },
  {
   "cell_type": "code",
   "execution_count": null,
   "metadata": {},
   "outputs": [],
   "source": [
    "\n",
    "plt.figure(figsize=(20,10))\n",
    "sns.set(font_scale = 0.8)\n",
    "df\n",
    "gen_cnt = df['opera'].value_counts().sort_values(ascending=False)\n",
    "order=gen_cnt.index\n",
    "ax = sns.barplot(x = 'opera', y = 'atraso_15', data = df)\n",
    "plt.xticks(rotation = 75)\n",
    "plt.yticks()\n",
    "plt.ylabel('Atrasos 15')\n",
    "plt.title('Tasa de atrasos por operación')\n",
    "\n",
    "# annotate\n",
    "ax.bar_label(ax.containers[0], label_type=\"edge\")\n",
    "\n",
    "# pad the spacing between the number and the edge of the figure\n",
    "ax.margins(y=0.1)"
   ]
  },
  {
   "cell_type": "code",
   "execution_count": null,
   "metadata": {},
   "outputs": [],
   "source": [
    "pd.DataFrame(df.groupby(by=['mes'])['atraso_15'].mean())"
   ]
  },
  {
   "cell_type": "code",
   "execution_count": null,
   "metadata": {},
   "outputs": [],
   "source": [
    "pd.DataFrame(df.groupby(by=['mes'])['atraso_15'].mean().describe())"
   ]
  },
  {
   "cell_type": "code",
   "execution_count": null,
   "metadata": {},
   "outputs": [],
   "source": [
    "\n",
    "plt.figure(figsize=(20,10))\n",
    "sns.set(font_scale = 0.8)\n",
    "df\n",
    "gen_cnt = df['mes'].value_counts().sort_values(ascending=False)\n",
    "order=gen_cnt.index\n",
    "ax = sns.barplot(x = 'mes', y = 'atraso_15', data = df)\n",
    "plt.xticks(rotation = 75)\n",
    "plt.yticks()\n",
    "plt.ylabel('Atrasos 15')\n",
    "plt.title('Tasa de atrasos por mes')\n",
    "\n",
    "# annotate\n",
    "ax.bar_label(ax.containers[0], label_type=\"edge\")\n",
    "\n",
    "# pad the spacing between the number and the edge of the figure\n",
    "ax.margins(y=0.1)"
   ]
  },
  {
   "cell_type": "code",
   "execution_count": null,
   "metadata": {},
   "outputs": [],
   "source": [
    "pd.DataFrame(df.groupby(by=['dia'])['atraso_15'].mean())"
   ]
  },
  {
   "cell_type": "code",
   "execution_count": null,
   "metadata": {},
   "outputs": [],
   "source": [
    "pd.DataFrame(df.groupby(by=['dia'])['atraso_15'].mean().describe())"
   ]
  },
  {
   "cell_type": "code",
   "execution_count": null,
   "metadata": {},
   "outputs": [],
   "source": [
    "plt.figure(figsize=(20,10))\n",
    "sns.set(font_scale = 0.8)\n",
    "df\n",
    "gen_cnt = df['dia'].value_counts().sort_values(ascending=False)\n",
    "order=gen_cnt.index\n",
    "ax = sns.barplot(x = 'dia', y = 'atraso_15', data = df)\n",
    "plt.xticks(rotation = 75)\n",
    "plt.yticks()\n",
    "plt.ylabel('Atrasos 15')\n",
    "plt.title('Tasa de atrasos por dia')\n",
    "\n",
    "# annotate\n",
    "ax.bar_label(ax.containers[0], label_type=\"edge\")\n",
    "\n",
    "# pad the spacing between the number and the edge of the figure\n",
    "ax.margins(y=0.1)"
   ]
  },
  {
   "cell_type": "code",
   "execution_count": null,
   "metadata": {},
   "outputs": [],
   "source": [
    "pd.DataFrame(df.groupby(by=['temporada_alta'])['atraso_15'].mean())"
   ]
  },
  {
   "cell_type": "code",
   "execution_count": null,
   "metadata": {},
   "outputs": [],
   "source": [
    "pd.DataFrame(df.groupby(by=['temporada_alta'])['atraso_15'].mean().describe())"
   ]
  },
  {
   "cell_type": "code",
   "execution_count": null,
   "metadata": {},
   "outputs": [],
   "source": [
    "\n",
    "plt.figure(figsize=(20,10))\n",
    "sns.set(font_scale = 0.8)\n",
    "df\n",
    "gen_cnt = df['temporada_alta'].value_counts().sort_values(ascending=False)\n",
    "order=gen_cnt.index\n",
    "ax = sns.barplot(x = 'temporada_alta', y = 'atraso_15', data = df)\n",
    "plt.xticks(rotation = 75)\n",
    "plt.yticks()\n",
    "plt.ylabel('Atrasos 15')\n",
    "plt.title('Tasa de atrasos temporada alta')\n",
    "\n",
    "# annotate\n",
    "ax.bar_label(ax.containers[0], label_type=\"edge\")\n",
    "\n",
    "# pad the spacing between the number and the edge of the figure\n",
    "ax.margins(y=0.1)"
   ]
  },
  {
   "cell_type": "code",
   "execution_count": null,
   "metadata": {},
   "outputs": [],
   "source": [
    "pd.DataFrame(df.groupby(by=['tipovuelo'])['atraso_15'].mean())"
   ]
  },
  {
   "cell_type": "code",
   "execution_count": null,
   "metadata": {},
   "outputs": [],
   "source": [
    "pd.DataFrame(df.groupby(by=['tipovuelo'])['atraso_15'].mean().describe())"
   ]
  },
  {
   "cell_type": "code",
   "execution_count": null,
   "metadata": {},
   "outputs": [],
   "source": [
    "plt.figure(figsize=(20,10))\n",
    "sns.set(font_scale = 0.8)\n",
    "df\n",
    "gen_cnt = df['tipovuelo'].value_counts().sort_values(ascending=False)\n",
    "order=gen_cnt.index\n",
    "ax = sns.barplot(x = 'tipovuelo', y = 'atraso_15', data = df)\n",
    "plt.xticks(rotation = 75)\n",
    "plt.yticks()\n",
    "plt.ylabel('Atrasos 15')\n",
    "plt.title('Tasa de atrasos por dia')\n",
    "\n",
    "# annotate\n",
    "ax.bar_label(ax.containers[0], label_type=\"edge\")\n",
    "\n",
    "# pad the spacing between the number and the edge of the figure\n",
    "ax.margins(y=0.1)\n"
   ]
  },
  {
   "cell_type": "markdown",
   "metadata": {},
   "source": [
    "Con respecto a **¿Qué variables esperarías que más influyeran en predecir atrasos?**, las variables se pueden clasificar por diferentes problematicas que acontinuación trataré de describir:\n",
    "\n",
    "* **Aerolínea + Turnaround Local**: La causa del retraso  se debe a las circunstancias dentro del control local. Esto incluye las líneas aéreas u otras partes, tales como operadores de tierra que participan en el proceso de turnaround (por ejemplo, problemas de mantenimiento o de la tripulación, de limpieza de la aeronave, del equipaje de carga, abastecimiento de combustible, etc.). \n",
    "* **Tiempo Extremo** : Condiciones meteorológicas significativas (reales o previstas) que a juicio de la compañía, retrasa o impide la realización de un vuelo, como por ejemplo,  la formación de hielo, tornados, tormentas de nieve, o huracanes. En los EE.UU., esta categoría es utilizada por las compañías aéreas para eventos muy raros como los huracanes y no es útil para entender el día a día de los impactos del clima. Para realmente ver la importancia que tienen los retrasos debido a condiciones no extremas en el tiempo de EEUU se ha de observar la clasificación de retrasos por causas en el sistema ATM, que es donde éstas se conciben. \n",
    "* **Aeronaves que llegan tarde (o retraso reaccionario)**: Retraso a causa de la llegada tardía de la anterior aeronave, haciendo que el  vuelo continuo a éste se retrase sin poder recuperar el tiempo durante la fase de turnaround en el aeropuerto. \n",
    "* **Seguridad** : Retrasos causados por la evacuación de una terminal o zona determinada, re-acceso a las aeronaves debido a fallo de seguridad, equipos de control que no funcionan, y / u otras causas relacionadas con la seguridad.\n",
    "\n",
    "* **Sistema ATM(retrasos ATFM / NAS)**: Los retrasos atribuibles a ATM se refieren a una amplia gama de condiciones, como las condiciones no extremas del clima, las operaciones aeroportuarias, el volumen de tráfico pesado, Control del Tráfico Aéreo(ATC). \n",
    "\n",
    "Por ejemplo: A continuación se muestra en la siguiente imagen todos los factores que puede influrir para que exista retardos en los vuelos, misma imagen que se  adquirión de el platica llamada **\"Cómo LATAM AIRLINES creó un Programa de DS/ MLOps Durante la Crisis\"**\n",
    "\n",
    "<div>\n",
    "<p style = 'text-align:center;'>\n",
    "<img src=\"figuras/figura1.jpg\" width=\"800\" height=\"450\">\n",
    "</p>\n",
    "</div>"
   ]
  },
  {
   "cell_type": "markdown",
   "metadata": {},
   "source": [
    "#####  4. Entrena uno o varios modelos (usando el/los algoritmo(s) que prefieras) para estimar la probabilidad de atraso de un vuelo. Siéntete libre de generar variables adicionales y/o complementar con variables externas\n",
    "\n",
    "Por otro lado, se cargan las librerías principales para poder crear modelos de predicción poder evaluarlos\n",
    "\n",
    "**NOTA**:  Los modelos fueron elegidos para ver el comportamiento que los mismos tienen sobre los datos y poder análizarlos"
   ]
  },
  {
   "cell_type": "code",
   "execution_count": null,
   "metadata": {},
   "outputs": [],
   "source": [
    "from pycaret.classification import * "
   ]
  },
  {
   "cell_type": "code",
   "execution_count": null,
   "metadata": {},
   "outputs": [],
   "source": [
    "\n",
    "\n",
    "pce = setup(data= df, target= 'atraso_15', session_id= 5, train_size= 0.8)\n",
    "models()"
   ]
  },
  {
   "cell_type": "code",
   "execution_count": null,
   "metadata": {},
   "outputs": [],
   "source": [
    "best_model = compare_models()"
   ]
  },
  {
   "cell_type": "code",
   "execution_count": null,
   "metadata": {},
   "outputs": [],
   "source": [
    "pce1 = create_model('lr')"
   ]
  },
  {
   "cell_type": "code",
   "execution_count": null,
   "metadata": {},
   "outputs": [],
   "source": [
    "tune_pce1 = tune_model(pce1)"
   ]
  },
  {
   "cell_type": "code",
   "execution_count": null,
   "metadata": {},
   "outputs": [],
   "source": [
    "evaluate_model(tune_pce1)"
   ]
  },
  {
   "cell_type": "code",
   "execution_count": null,
   "metadata": {},
   "outputs": [],
   "source": [
    "predict_model(best_model)"
   ]
  },
  {
   "cell_type": "code",
   "execution_count": null,
   "metadata": {},
   "outputs": [],
   "source": [
    "save_model(best_model, './models/bestmodel_291222')"
   ]
  },
  {
   "cell_type": "markdown",
   "metadata": {},
   "source": [
    "* Al momento de tratar de meter un algoritmo en X e Y, ocurre un problema puesto que sus atributos estan en String y para\n",
    "predecir con algoritmos se necesita SOLO numeros, es por ello que se hace todo este proceso\n",
    "\n",
    "* **labelencoder** Esto convierte de String a numero\n",
    "\n",
    "* **X**: como X tienes muchas columnas, se hace la tranformacion por cada columna\n",
    "\n",
    "* **y**: como y solo tiene una columna, con una es suficiente"
   ]
  },
  {
   "cell_type": "markdown",
   "metadata": {},
   "source": [
    "La siguiente tabla nos muestra como de debe de interpretar la matriz de confución\n",
    "\n",
    "\n",
    "<div>\n",
    "<p style = 'text-align:center;'>\n",
    "<img src=\"figuras/figura2.jpg\" width=\"450\" height=\"200\">\n",
    "</p>\n",
    "</div>\n",
    "\n",
    "Los valores de la diagonal principal a=10655 y d=2148 se corresponden con los valores estimados de forma correcta por el modelo, tanto los verdaderos positivos_ TP(d), como los verdaderos negativos_TN (a).\n",
    "\n",
    "La otra diagonal, por tanto, representa los casos en los que el modelo «se ha equivocado (c=443 falsos negativos_FN, b=396 falsos positivos_FP)."
   ]
  }
 ],
 "metadata": {
  "kernelspec": {
   "display_name": "Python 3.8.13 ('latam')",
   "language": "python",
   "name": "python3"
  },
  "language_info": {
   "codemirror_mode": {
    "name": "ipython",
    "version": 3
   },
   "file_extension": ".py",
   "mimetype": "text/x-python",
   "name": "python",
   "nbconvert_exporter": "python",
   "pygments_lexer": "ipython3",
   "version": "3.8.15"
  },
  "orig_nbformat": 4,
  "vscode": {
   "interpreter": {
    "hash": "235b683ed0835053cda90bb232897cdc988de69e0349626e080f7e63786cbea6"
   }
  }
 },
 "nbformat": 4,
 "nbformat_minor": 2
}
